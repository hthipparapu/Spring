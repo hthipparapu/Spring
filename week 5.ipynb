{
 "cells": [
  {
   "cell_type": "markdown",
   "id": "fb740c9d-fd85-4035-a87c-9a3c9889dcbd",
   "metadata": {},
   "source": [
    "# Haritha Thipparapu \n",
    "# HDS 5230 se- High Performance Computing\r",
    "# \n",
    "Week 5 Dask Programming Assignment"
   ]
  },
  {
   "cell_type": "markdown",
   "id": "caa898fc-cc24-4059-8982-8656796f16ed",
   "metadata": {},
   "source": [
    "# Haritha Thipparapu\n",
    "# HDS 5230 section 07 - High Performance Computing\n",
    "# Weej "
   ]
  },
  {
   "cell_type": "code",
   "execution_count": 77,
   "id": "8453da36-c64b-429b-b6e5-c8dedf338f56",
   "metadata": {},
   "outputs": [],
   "source": [
    "import numpy as np\n",
    "import pandas as pd\n",
    "import cProfile"
   ]
  },
  {
   "cell_type": "code",
   "execution_count": 78,
   "id": "1760ee87-afe7-4c2c-aaa7-abac2dd5e205",
   "metadata": {},
   "outputs": [
    {
     "name": "stderr",
     "output_type": "stream",
     "text": [
      "C:\\Users\\harit\\AppData\\Local\\Temp\\ipykernel_25292\\593144534.py:2: DtypeWarning: Columns (2,3) have mixed types. Specify dtype option on import or set low_memory=False.\n",
      "  df = pd.read_csv(\"timeseries.csv\")\n"
     ]
    },
    {
     "name": "stdout",
     "output_type": "stream",
     "text": [
      "                         name   level city   county     state  country  \\\n",
      "0  Antwerp, Flanders, Belgium  county  NaN  Antwerp  Flanders  Belgium   \n",
      "1  Antwerp, Flanders, Belgium  county  NaN  Antwerp  Flanders  Belgium   \n",
      "2  Antwerp, Flanders, Belgium  county  NaN  Antwerp  Flanders  Belgium   \n",
      "3  Antwerp, Flanders, Belgium  county  NaN  Antwerp  Flanders  Belgium   \n",
      "4  Antwerp, Flanders, Belgium  county  NaN  Antwerp  Flanders  Belgium   \n",
      "\n",
      "   population      lat    long                          url  ... recovered  \\\n",
      "0   1847486.0  51.2485  4.7175  https://epistat.wiv-isp.be/  ...       NaN   \n",
      "1   1847486.0  51.2485  4.7175  https://epistat.wiv-isp.be/  ...       NaN   \n",
      "2   1847486.0  51.2485  4.7175  https://epistat.wiv-isp.be/  ...       NaN   \n",
      "3   1847486.0  51.2485  4.7175  https://epistat.wiv-isp.be/  ...       NaN   \n",
      "4   1847486.0  51.2485  4.7175  https://epistat.wiv-isp.be/  ...       NaN   \n",
      "\n",
      "  active  tested  hospitalized  hospitalized_current  discharged  icu  \\\n",
      "0    NaN     NaN           NaN                   NaN         NaN  NaN   \n",
      "1    NaN     NaN           NaN                   NaN         NaN  NaN   \n",
      "2    NaN     NaN           NaN                   NaN         NaN  NaN   \n",
      "3    NaN     NaN           NaN                   NaN         NaN  NaN   \n",
      "4    NaN     NaN           NaN                   NaN         NaN  NaN   \n",
      "\n",
      "   icu_current  growthFactor        date  \n",
      "0          NaN           NaN  2020-01-22  \n",
      "1          NaN           1.0  2020-01-23  \n",
      "2          NaN           1.0  2020-01-24  \n",
      "3          NaN           1.0  2020-01-25  \n",
      "4          NaN           1.0  2020-01-26  \n",
      "\n",
      "[5 rows x 24 columns]\n"
     ]
    }
   ],
   "source": [
    "#%% read in the data\n",
    "df = pd.read_csv(\"timeseries.csv\")\n",
    "print(df.head())"
   ]
  },
  {
   "cell_type": "code",
   "execution_count": 79,
   "id": "417111fc-1b2a-4cda-9619-9b122441f772",
   "metadata": {},
   "outputs": [
    {
     "data": {
      "text/plain": [
       "name                     object\n",
       "level                    object\n",
       "city                     object\n",
       "county                   object\n",
       "state                    object\n",
       "country                  object\n",
       "population              float64\n",
       "lat                     float64\n",
       "long                    float64\n",
       "url                      object\n",
       "aggregate                object\n",
       "tz                       object\n",
       "cases                   float64\n",
       "deaths                  float64\n",
       "recovered               float64\n",
       "active                  float64\n",
       "tested                  float64\n",
       "hospitalized            float64\n",
       "hospitalized_current    float64\n",
       "discharged              float64\n",
       "icu                     float64\n",
       "icu_current             float64\n",
       "growthFactor            float64\n",
       "date                     object\n",
       "dtype: object"
      ]
     },
     "execution_count": 79,
     "metadata": {},
     "output_type": "execute_result"
    }
   ],
   "source": [
    "df.dtypes"
   ]
  },
  {
   "cell_type": "code",
   "execution_count": 80,
   "id": "aa479b73-3909-4129-b1e4-af47683c3c94",
   "metadata": {},
   "outputs": [
    {
     "name": "stdout",
     "output_type": "stream",
     "text": [
      "name                    string[pyarrow]\n",
      "level                   string[pyarrow]\n",
      "city                    string[pyarrow]\n",
      "county                  string[pyarrow]\n",
      "state                   string[pyarrow]\n",
      "country                 string[pyarrow]\n",
      "population                      float64\n",
      "lat                             float64\n",
      "long                            float64\n",
      "url                     string[pyarrow]\n",
      "aggregate               string[pyarrow]\n",
      "tz                      string[pyarrow]\n",
      "cases                           float64\n",
      "deaths                          float64\n",
      "recovered                       float64\n",
      "active                          float64\n",
      "tested                          float64\n",
      "hospitalized                    float64\n",
      "hospitalized_current            float64\n",
      "discharged                      float64\n",
      "icu                             float64\n",
      "icu_current                     float64\n",
      "growthFactor                    float64\n",
      "date                    string[pyarrow]\n",
      "dtype: object\n"
     ]
    }
   ],
   "source": [
    "import dask.dataframe as dd\n",
    "\n",
    "# Define the data types\n",
    "dtypes = {\n",
    "    'aggregate': 'object',\n",
    "    'cases': 'float64',\n",
    "    'city': 'object',\n",
    "    'population': 'float64',\n",
    "    'deaths': 'float64',\n",
    "    'country': 'object',\n",
    "    'level': 'object',\n",
    "    'state': 'object',\n",
    "    'date': 'object'  # Will be converted to datetime later\n",
    "}\n",
    "\n",
    "# Read the CSV file using Dask\n",
    "CDS = dd.read_csv('timeseries.csv', dtype=dtypes, parse_dates=['date'])\n",
    "\n",
    "# Convert necessary columns to float\n",
    "CDS['population'] = CDS['population'].astype(float)\n",
    "CDS['cases'] = CDS['cases'].astype(float)\n",
    "CDS['deaths'] = CDS['deaths'].astype(float)\n",
    "\n",
    "# Print schema to verify\n",
    "print(CDS.dtypes)\n"
   ]
  },
  {
   "cell_type": "code",
   "execution_count": 81,
   "id": "f8156d0f-5b57-4bd8-972a-c5e6ebd24640",
   "metadata": {},
   "outputs": [
    {
     "data": {
      "text/html": [
       "<div>\n",
       "<style scoped>\n",
       "    .dataframe tbody tr th:only-of-type {\n",
       "        vertical-align: middle;\n",
       "    }\n",
       "\n",
       "    .dataframe tbody tr th {\n",
       "        vertical-align: top;\n",
       "    }\n",
       "\n",
       "    .dataframe thead th {\n",
       "        text-align: right;\n",
       "    }\n",
       "</style>\n",
       "<table border=\"1\" class=\"dataframe\">\n",
       "  <thead>\n",
       "    <tr style=\"text-align: right;\">\n",
       "      <th></th>\n",
       "      <th>name</th>\n",
       "      <th>level</th>\n",
       "      <th>city</th>\n",
       "      <th>county</th>\n",
       "      <th>state</th>\n",
       "      <th>country</th>\n",
       "      <th>population</th>\n",
       "      <th>lat</th>\n",
       "      <th>long</th>\n",
       "      <th>url</th>\n",
       "      <th>...</th>\n",
       "      <th>recovered</th>\n",
       "      <th>active</th>\n",
       "      <th>tested</th>\n",
       "      <th>hospitalized</th>\n",
       "      <th>hospitalized_current</th>\n",
       "      <th>discharged</th>\n",
       "      <th>icu</th>\n",
       "      <th>icu_current</th>\n",
       "      <th>growthFactor</th>\n",
       "      <th>date</th>\n",
       "    </tr>\n",
       "  </thead>\n",
       "  <tbody>\n",
       "  </tbody>\n",
       "</table>\n",
       "<p>0 rows × 24 columns</p>\n",
       "</div>"
      ],
      "text/plain": [
       "Empty DataFrame\n",
       "Columns: [name, level, city, county, state, country, population, lat, long, url, aggregate, tz, cases, deaths, recovered, active, tested, hospitalized, hospitalized_current, discharged, icu, icu_current, growthFactor, date]\n",
       "Index: []\n",
       "\n",
       "[0 rows x 24 columns]"
      ]
     },
     "execution_count": 81,
     "metadata": {},
     "output_type": "execute_result"
    }
   ],
   "source": [
    "import dask.dataframe as dd\n",
    "\n",
    "# Define column data types to prevent dtype inference issues\n",
    "dtypes = {\n",
    "    'name': 'object',\n",
    "    'level': 'object',\n",
    "    'city': 'object',\n",
    "    'county': 'object',\n",
    "    'state': 'object',\n",
    "    'country': 'object',\n",
    "    'population': 'float64',\n",
    "    'lat': 'float64',\n",
    "    'long': 'float64',\n",
    "    'url': 'object',\n",
    "    'aggregate': 'object',\n",
    "    'tz': 'object',\n",
    "    'cases': 'float64',\n",
    "    'deaths': 'float64',\n",
    "    'recovered': 'float64',\n",
    "    'active': 'float64',\n",
    "    'tested': 'float64',\n",
    "    'hospitalized': 'float64',\n",
    "    'hospitalized_current': 'float64',\n",
    "    'discharged': 'float64',\n",
    "    'icu': 'float64',\n",
    "    'icu_current': 'float64',\n",
    "    'growthFactor': 'float64',\n",
    "    'date': 'object'\n",
    "}\n",
    "\n",
    "\n",
    "# Filter the dataset for US states\n",
    "df_us = df[df['country'] == 'US']\n",
    "\n",
    "# Convert date column to datetime format\n",
    "df_us['date'] = dd.to_datetime(df_us['date'])\n",
    "\n",
    "# Filter for the period 2020-Jan-01 to 2021-Feb-28\n",
    "df_us = df_us[(df_us['date'] >= '2020-01-01') & (df_us['date'] <= '2021-02-28')]\n",
    "\n",
    "# Check the filtered data\n",
    "df_us.head()"
   ]
  },
  {
   "cell_type": "code",
   "execution_count": 82,
   "id": "019d1878-1744-4b8d-a302-66ed7917450d",
   "metadata": {},
   "outputs": [
    {
     "ename": "AttributeError",
     "evalue": "'DataFrame' object has no attribute 'compute'",
     "output_type": "error",
     "traceback": [
      "\u001b[1;31m---------------------------------------------------------------------------\u001b[0m",
      "\u001b[1;31mAttributeError\u001b[0m                            Traceback (most recent call last)",
      "\u001b[1;32m~\\AppData\\Local\\Temp\\ipykernel_25292\\1147226866.py\u001b[0m in \u001b[0;36m?\u001b[1;34m()\u001b[0m\n\u001b[0;32m      3\u001b[0m \u001b[0mdf_us\u001b[0m\u001b[1;33m[\u001b[0m\u001b[1;34m'population'\u001b[0m\u001b[1;33m]\u001b[0m \u001b[1;33m=\u001b[0m \u001b[0mdf_us\u001b[0m\u001b[1;33m[\u001b[0m\u001b[1;34m'population'\u001b[0m\u001b[1;33m]\u001b[0m\u001b[1;33m.\u001b[0m\u001b[0mfillna\u001b[0m\u001b[1;33m(\u001b[0m\u001b[1;36m0\u001b[0m\u001b[1;33m)\u001b[0m\u001b[1;33m\u001b[0m\u001b[1;33m\u001b[0m\u001b[0m\n\u001b[0;32m      4\u001b[0m \u001b[0mdf_us\u001b[0m\u001b[1;33m[\u001b[0m\u001b[1;34m'deaths_per_capita'\u001b[0m\u001b[1;33m]\u001b[0m \u001b[1;33m=\u001b[0m \u001b[0mdf_us\u001b[0m\u001b[1;33m[\u001b[0m\u001b[1;34m'deaths'\u001b[0m\u001b[1;33m]\u001b[0m \u001b[1;33m/\u001b[0m \u001b[0mdf_us\u001b[0m\u001b[1;33m[\u001b[0m\u001b[1;34m'population'\u001b[0m\u001b[1;33m]\u001b[0m\u001b[1;33m\u001b[0m\u001b[1;33m\u001b[0m\u001b[0m\n\u001b[0;32m      5\u001b[0m \u001b[1;33m\u001b[0m\u001b[0m\n\u001b[0;32m      6\u001b[0m \u001b[1;31m# Group by state and calculate total deaths and average population\u001b[0m\u001b[1;33m\u001b[0m\u001b[1;33m\u001b[0m\u001b[0m\n\u001b[1;32m----> 7\u001b[1;33m \u001b[0mdf_state_per_capita\u001b[0m \u001b[1;33m=\u001b[0m \u001b[0mdf_us\u001b[0m\u001b[1;33m.\u001b[0m\u001b[0mgroupby\u001b[0m\u001b[1;33m(\u001b[0m\u001b[1;34m'state'\u001b[0m\u001b[1;33m)\u001b[0m\u001b[1;33m.\u001b[0m\u001b[0magg\u001b[0m\u001b[1;33m(\u001b[0m\u001b[1;33m{\u001b[0m\u001b[1;34m'deaths'\u001b[0m\u001b[1;33m:\u001b[0m \u001b[1;34m'sum'\u001b[0m\u001b[1;33m,\u001b[0m \u001b[1;34m'population'\u001b[0m\u001b[1;33m:\u001b[0m \u001b[1;34m'mean'\u001b[0m\u001b[1;33m}\u001b[0m\u001b[1;33m)\u001b[0m\u001b[1;33m.\u001b[0m\u001b[0mcompute\u001b[0m\u001b[1;33m(\u001b[0m\u001b[1;33m)\u001b[0m\u001b[1;33m\u001b[0m\u001b[1;33m\u001b[0m\u001b[0m\n\u001b[0m\u001b[0;32m      8\u001b[0m \u001b[1;33m\u001b[0m\u001b[0m\n\u001b[0;32m      9\u001b[0m \u001b[1;31m# Calculate per-capita mortality and rank states\u001b[0m\u001b[1;33m\u001b[0m\u001b[1;33m\u001b[0m\u001b[0m\n\u001b[0;32m     10\u001b[0m \u001b[0mdf_state_per_capita\u001b[0m\u001b[1;33m[\u001b[0m\u001b[1;34m'per_capita_mortality'\u001b[0m\u001b[1;33m]\u001b[0m \u001b[1;33m=\u001b[0m \u001b[0mdf_state_per_capita\u001b[0m\u001b[1;33m[\u001b[0m\u001b[1;34m'deaths'\u001b[0m\u001b[1;33m]\u001b[0m \u001b[1;33m/\u001b[0m \u001b[0mdf_state_per_capita\u001b[0m\u001b[1;33m[\u001b[0m\u001b[1;34m'population'\u001b[0m\u001b[1;33m]\u001b[0m\u001b[1;33m\u001b[0m\u001b[1;33m\u001b[0m\u001b[0m\n",
      "\u001b[1;32m~\\anaconda3\\Lib\\site-packages\\pandas\\core\\generic.py\u001b[0m in \u001b[0;36m?\u001b[1;34m(self, name)\u001b[0m\n\u001b[0;32m   6295\u001b[0m             \u001b[1;32mand\u001b[0m \u001b[0mname\u001b[0m \u001b[1;32mnot\u001b[0m \u001b[1;32min\u001b[0m \u001b[0mself\u001b[0m\u001b[1;33m.\u001b[0m\u001b[0m_accessors\u001b[0m\u001b[1;33m\u001b[0m\u001b[1;33m\u001b[0m\u001b[0m\n\u001b[0;32m   6296\u001b[0m             \u001b[1;32mand\u001b[0m \u001b[0mself\u001b[0m\u001b[1;33m.\u001b[0m\u001b[0m_info_axis\u001b[0m\u001b[1;33m.\u001b[0m\u001b[0m_can_hold_identifiers_and_holds_name\u001b[0m\u001b[1;33m(\u001b[0m\u001b[0mname\u001b[0m\u001b[1;33m)\u001b[0m\u001b[1;33m\u001b[0m\u001b[1;33m\u001b[0m\u001b[0m\n\u001b[0;32m   6297\u001b[0m         \u001b[1;33m)\u001b[0m\u001b[1;33m:\u001b[0m\u001b[1;33m\u001b[0m\u001b[1;33m\u001b[0m\u001b[0m\n\u001b[0;32m   6298\u001b[0m             \u001b[1;32mreturn\u001b[0m \u001b[0mself\u001b[0m\u001b[1;33m[\u001b[0m\u001b[0mname\u001b[0m\u001b[1;33m]\u001b[0m\u001b[1;33m\u001b[0m\u001b[1;33m\u001b[0m\u001b[0m\n\u001b[1;32m-> 6299\u001b[1;33m         \u001b[1;32mreturn\u001b[0m \u001b[0mobject\u001b[0m\u001b[1;33m.\u001b[0m\u001b[0m__getattribute__\u001b[0m\u001b[1;33m(\u001b[0m\u001b[0mself\u001b[0m\u001b[1;33m,\u001b[0m \u001b[0mname\u001b[0m\u001b[1;33m)\u001b[0m\u001b[1;33m\u001b[0m\u001b[1;33m\u001b[0m\u001b[0m\n\u001b[0m",
      "\u001b[1;31mAttributeError\u001b[0m: 'DataFrame' object has no attribute 'compute'"
     ]
    }
   ],
   "source": [
    "# Calculate per-capita mortality\n",
    "df_us['deaths'] = df_us['deaths'].fillna(0)\n",
    "df_us['population'] = df_us['population'].fillna(0)\n",
    "df_us['deaths_per_capita'] = df_us['deaths'] / df_us['population']\n",
    "\n",
    "# Group by state and calculate total deaths and average population\n",
    "df_state_per_capita = df_us.groupby('state').agg({'deaths': 'sum', 'population': 'mean'}).compute()\n",
    "\n",
    "# Calculate per-capita mortality and rank states\n",
    "df_state_per_capita['per_capita_mortality'] = df_state_per_capita['deaths'] / df_state_per_capita['population']\n",
    "df_state_per_capita = df_state_per_capita.sort_values(by='per_capita_mortality', ascending=False)\n",
    "\n",
    "# Output the per-capita mortality ranking\n",
    "print(\"Per-capita mortality ranking:\")\n",
    "print(df_state_per_capita[['per_capita_mortality']])\n"
   ]
  },
  {
   "cell_type": "code",
   "execution_count": 84,
   "id": "42df10dd-3554-4f47-b967-2eec63daeecc",
   "metadata": {},
   "outputs": [
    {
     "ename": "AttributeError",
     "evalue": "'DataFrame' object has no attribute 'compute'",
     "output_type": "error",
     "traceback": [
      "\u001b[1;31m---------------------------------------------------------------------------\u001b[0m",
      "\u001b[1;31mAttributeError\u001b[0m                            Traceback (most recent call last)",
      "\u001b[1;32m~\\AppData\\Local\\Temp\\ipykernel_25292\\2877700672.py\u001b[0m in \u001b[0;36m?\u001b[1;34m()\u001b[0m\n\u001b[0;32m      4\u001b[0m \u001b[1;31m# Extract year and month for CFR calculation\u001b[0m\u001b[1;33m\u001b[0m\u001b[1;33m\u001b[0m\u001b[0m\n\u001b[0;32m      5\u001b[0m \u001b[0mdf_us\u001b[0m\u001b[1;33m[\u001b[0m\u001b[1;34m'year_month'\u001b[0m\u001b[1;33m]\u001b[0m \u001b[1;33m=\u001b[0m \u001b[0mdf_us\u001b[0m\u001b[1;33m[\u001b[0m\u001b[1;34m'date'\u001b[0m\u001b[1;33m]\u001b[0m\u001b[1;33m.\u001b[0m\u001b[0mdt\u001b[0m\u001b[1;33m.\u001b[0m\u001b[0mto_period\u001b[0m\u001b[1;33m(\u001b[0m\u001b[1;34m'M'\u001b[0m\u001b[1;33m)\u001b[0m\u001b[1;33m\u001b[0m\u001b[1;33m\u001b[0m\u001b[0m\n\u001b[0;32m      6\u001b[0m \u001b[1;33m\u001b[0m\u001b[0m\n\u001b[0;32m      7\u001b[0m \u001b[1;31m# Compute CFR per state per month\u001b[0m\u001b[1;33m\u001b[0m\u001b[1;33m\u001b[0m\u001b[0m\n\u001b[1;32m----> 8\u001b[1;33m \u001b[0mdf_cfr\u001b[0m \u001b[1;33m=\u001b[0m \u001b[0mdf_us\u001b[0m\u001b[1;33m.\u001b[0m\u001b[0mgroupby\u001b[0m\u001b[1;33m(\u001b[0m\u001b[1;33m[\u001b[0m\u001b[1;34m'state'\u001b[0m\u001b[1;33m,\u001b[0m \u001b[1;34m'year_month'\u001b[0m\u001b[1;33m]\u001b[0m\u001b[1;33m)\u001b[0m\u001b[1;33m.\u001b[0m\u001b[0magg\u001b[0m\u001b[1;33m(\u001b[0m\u001b[1;33m{\u001b[0m\u001b[1;34m'cfr'\u001b[0m\u001b[1;33m:\u001b[0m \u001b[1;34m'mean'\u001b[0m\u001b[1;33m}\u001b[0m\u001b[1;33m)\u001b[0m\u001b[1;33m.\u001b[0m\u001b[0mcompute\u001b[0m\u001b[1;33m(\u001b[0m\u001b[1;33m)\u001b[0m\u001b[1;33m\u001b[0m\u001b[1;33m\u001b[0m\u001b[0m\n\u001b[0m\u001b[0;32m      9\u001b[0m \u001b[1;33m\u001b[0m\u001b[0m\n\u001b[0;32m     10\u001b[0m \u001b[1;31m# Output the CFR matrix (states x months)\u001b[0m\u001b[1;33m\u001b[0m\u001b[1;33m\u001b[0m\u001b[0m\n\u001b[0;32m     11\u001b[0m \u001b[0mprint\u001b[0m\u001b[1;33m(\u001b[0m\u001b[1;34m\"\\nCFR per state per month:\"\u001b[0m\u001b[1;33m)\u001b[0m\u001b[1;33m\u001b[0m\u001b[1;33m\u001b[0m\u001b[0m\n",
      "\u001b[1;32m~\\anaconda3\\Lib\\site-packages\\pandas\\core\\generic.py\u001b[0m in \u001b[0;36m?\u001b[1;34m(self, name)\u001b[0m\n\u001b[0;32m   6295\u001b[0m             \u001b[1;32mand\u001b[0m \u001b[0mname\u001b[0m \u001b[1;32mnot\u001b[0m \u001b[1;32min\u001b[0m \u001b[0mself\u001b[0m\u001b[1;33m.\u001b[0m\u001b[0m_accessors\u001b[0m\u001b[1;33m\u001b[0m\u001b[1;33m\u001b[0m\u001b[0m\n\u001b[0;32m   6296\u001b[0m             \u001b[1;32mand\u001b[0m \u001b[0mself\u001b[0m\u001b[1;33m.\u001b[0m\u001b[0m_info_axis\u001b[0m\u001b[1;33m.\u001b[0m\u001b[0m_can_hold_identifiers_and_holds_name\u001b[0m\u001b[1;33m(\u001b[0m\u001b[0mname\u001b[0m\u001b[1;33m)\u001b[0m\u001b[1;33m\u001b[0m\u001b[1;33m\u001b[0m\u001b[0m\n\u001b[0;32m   6297\u001b[0m         \u001b[1;33m)\u001b[0m\u001b[1;33m:\u001b[0m\u001b[1;33m\u001b[0m\u001b[1;33m\u001b[0m\u001b[0m\n\u001b[0;32m   6298\u001b[0m             \u001b[1;32mreturn\u001b[0m \u001b[0mself\u001b[0m\u001b[1;33m[\u001b[0m\u001b[0mname\u001b[0m\u001b[1;33m]\u001b[0m\u001b[1;33m\u001b[0m\u001b[1;33m\u001b[0m\u001b[0m\n\u001b[1;32m-> 6299\u001b[1;33m         \u001b[1;32mreturn\u001b[0m \u001b[0mobject\u001b[0m\u001b[1;33m.\u001b[0m\u001b[0m__getattribute__\u001b[0m\u001b[1;33m(\u001b[0m\u001b[0mself\u001b[0m\u001b[1;33m,\u001b[0m \u001b[0mname\u001b[0m\u001b[1;33m)\u001b[0m\u001b[1;33m\u001b[0m\u001b[1;33m\u001b[0m\u001b[0m\n\u001b[0m",
      "\u001b[1;31mAttributeError\u001b[0m: 'DataFrame' object has no attribute 'compute'"
     ]
    }
   ],
   "source": [
    "# Compute Case Fatality Rate (CFR) per month using WHO methodology\n",
    "df_us['cfr'] = df_us['deaths'] / df_us['cases']\n",
    "\n",
    "# Extract year and month for CFR calculation\n",
    "df_us['year_month'] = df_us['date'].dt.to_period('M')\n",
    "\n",
    "# Compute CFR per state per month\n",
    "df_cfr = df_us.groupby(['state', 'year_month']).agg({'cfr': 'mean'}).compute()\n",
    "\n",
    "# Output the CFR matrix (states x months)\n",
    "print(\"\\nCFR per state per month:\")\n",
    "print(df_cfr.head())"
   ]
  },
  {
   "cell_type": "code",
   "execution_count": null,
   "id": "21b25675-ded7-4615-99df-ec3910052586",
   "metadata": {},
   "outputs": [],
   "source": [
    "# Reshape data to 50 (states) x 14 (months) matrix\n",
    "df_cfr_matrix = df_cfr.unstack(fill_value=0).T\n",
    "\n",
    "# Rank states by changes in CFR (month-to-month)\n",
    "df_cfr_matrix_diff = df_cfr_matrix.diff(axis=1).fillna(0)\n",
    "df_cfr_rank = df_cfr_matrix_diff.sum(axis=1).sort_values(ascending=False)\n",
    "\n",
    "# Output the ranking based on CFR changes\n",
    "print(\"\\nCFR ranking by month-to-month change:\")\n",
    "print(df_cfr_rank)"
   ]
  },
  {
   "cell_type": "code",
   "execution_count": null,
   "id": "809baa84-168e-44eb-ad91-16f525f66477",
   "metadata": {},
   "outputs": [],
   "source": []
  }
 ],
 "metadata": {
  "kernelspec": {
   "display_name": "Python 3 (ipykernel)",
   "language": "python",
   "name": "python3"
  },
  "language_info": {
   "codemirror_mode": {
    "name": "ipython",
    "version": 3
   },
   "file_extension": ".py",
   "mimetype": "text/x-python",
   "name": "python",
   "nbconvert_exporter": "python",
   "pygments_lexer": "ipython3",
   "version": "3.12.4"
  }
 },
 "nbformat": 4,
 "nbformat_minor": 5
}
