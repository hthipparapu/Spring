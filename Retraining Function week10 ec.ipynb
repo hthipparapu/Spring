{
 "cells": [
  {
   "cell_type": "markdown",
   "id": "77b2ff71-69cf-48af-afb0-6b41dd726ff9",
   "metadata": {},
   "source": [
    "# Haritha Thipparapu"
   ]
  },
  {
   "cell_type": "markdown",
   "id": "ee6d8e60-6208-44ae-a007-d908781d5e0d",
   "metadata": {},
   "source": [
    "## Week 10 - Extra Credit Online Retraining"
   ]
  },
  {
   "cell_type": "markdown",
   "id": "88327490-e416-47ae-8a92-b27d6ab681e0",
   "metadata": {},
   "source": [
    "### Implement Retraining Function (KNN or Dummy Classifier with Stratification"
   ]
  },
  {
   "cell_type": "code",
   "execution_count": 47,
   "id": "c9b1c89c-a6a9-4766-bcb7-43004e1988a8",
   "metadata": {},
   "outputs": [
    {
     "name": "stdout",
     "output_type": "stream",
     "text": [
      "Requirement already satisfied: fastapi in c:\\users\\harit\\anaconda3\\lib\\site-packages (0.115.12)\n",
      "Requirement already satisfied: starlette<0.47.0,>=0.40.0 in c:\\users\\harit\\anaconda3\\lib\\site-packages (from fastapi) (0.46.2)\n",
      "Requirement already satisfied: pydantic!=1.8,!=1.8.1,!=2.0.0,!=2.0.1,!=2.1.0,<3.0.0,>=1.7.4 in c:\\users\\harit\\anaconda3\\lib\\site-packages (from fastapi) (2.5.3)\n",
      "Requirement already satisfied: typing-extensions>=4.8.0 in c:\\users\\harit\\anaconda3\\lib\\site-packages (from fastapi) (4.11.0)\n",
      "Requirement already satisfied: annotated-types>=0.4.0 in c:\\users\\harit\\anaconda3\\lib\\site-packages (from pydantic!=1.8,!=1.8.1,!=2.0.0,!=2.0.1,!=2.1.0,<3.0.0,>=1.7.4->fastapi) (0.6.0)\n",
      "Requirement already satisfied: pydantic-core==2.14.6 in c:\\users\\harit\\anaconda3\\lib\\site-packages (from pydantic!=1.8,!=1.8.1,!=2.0.0,!=2.0.1,!=2.1.0,<3.0.0,>=1.7.4->fastapi) (2.14.6)\n",
      "Requirement already satisfied: anyio<5,>=3.6.2 in c:\\users\\harit\\anaconda3\\lib\\site-packages (from starlette<0.47.0,>=0.40.0->fastapi) (4.2.0)\n",
      "Requirement already satisfied: idna>=2.8 in c:\\users\\harit\\anaconda3\\lib\\site-packages (from anyio<5,>=3.6.2->starlette<0.47.0,>=0.40.0->fastapi) (3.7)\n",
      "Requirement already satisfied: sniffio>=1.1 in c:\\users\\harit\\anaconda3\\lib\\site-packages (from anyio<5,>=3.6.2->starlette<0.47.0,>=0.40.0->fastapi) (1.3.0)\n",
      "Note: you may need to restart the kernel to use updated packages.\n"
     ]
    }
   ],
   "source": [
    "pip install fastapi"
   ]
  },
  {
   "cell_type": "code",
   "execution_count": 48,
   "id": "d38e6432-b599-4bdd-8428-f2c8c4beb3e8",
   "metadata": {},
   "outputs": [
    {
     "name": "stdout",
     "output_type": "stream",
     "text": [
      "Requirement already satisfied: fastapi in c:\\users\\harit\\anaconda3\\lib\\site-packages (0.115.12)\n",
      "Requirement already satisfied: uvicorn in c:\\users\\harit\\anaconda3\\lib\\site-packages (0.34.1)\n",
      "Requirement already satisfied: scikit-learn in c:\\users\\harit\\anaconda3\\lib\\site-packages (1.4.2)\n",
      "Requirement already satisfied: pandas in c:\\users\\harit\\anaconda3\\lib\\site-packages (2.2.2)\n",
      "Requirement already satisfied: starlette<0.47.0,>=0.40.0 in c:\\users\\harit\\anaconda3\\lib\\site-packages (from fastapi) (0.46.2)\n",
      "Requirement already satisfied: pydantic!=1.8,!=1.8.1,!=2.0.0,!=2.0.1,!=2.1.0,<3.0.0,>=1.7.4 in c:\\users\\harit\\anaconda3\\lib\\site-packages (from fastapi) (2.5.3)\n",
      "Requirement already satisfied: typing-extensions>=4.8.0 in c:\\users\\harit\\anaconda3\\lib\\site-packages (from fastapi) (4.11.0)\n",
      "Requirement already satisfied: click>=7.0 in c:\\users\\harit\\anaconda3\\lib\\site-packages (from uvicorn) (8.1.7)\n",
      "Requirement already satisfied: h11>=0.8 in c:\\users\\harit\\anaconda3\\lib\\site-packages (from uvicorn) (0.14.0)\n",
      "Requirement already satisfied: numpy>=1.19.5 in c:\\users\\harit\\anaconda3\\lib\\site-packages (from scikit-learn) (1.26.4)\n",
      "Requirement already satisfied: scipy>=1.6.0 in c:\\users\\harit\\anaconda3\\lib\\site-packages (from scikit-learn) (1.13.1)\n",
      "Requirement already satisfied: joblib>=1.2.0 in c:\\users\\harit\\anaconda3\\lib\\site-packages (from scikit-learn) (1.4.2)\n",
      "Requirement already satisfied: threadpoolctl>=2.0.0 in c:\\users\\harit\\anaconda3\\lib\\site-packages (from scikit-learn) (2.2.0)\n",
      "Requirement already satisfied: python-dateutil>=2.8.2 in c:\\users\\harit\\anaconda3\\lib\\site-packages (from pandas) (2.9.0.post0)\n",
      "Requirement already satisfied: pytz>=2020.1 in c:\\users\\harit\\anaconda3\\lib\\site-packages (from pandas) (2024.1)\n",
      "Requirement already satisfied: tzdata>=2022.7 in c:\\users\\harit\\anaconda3\\lib\\site-packages (from pandas) (2023.3)\n",
      "Requirement already satisfied: colorama in c:\\users\\harit\\anaconda3\\lib\\site-packages (from click>=7.0->uvicorn) (0.4.6)\n",
      "Requirement already satisfied: annotated-types>=0.4.0 in c:\\users\\harit\\anaconda3\\lib\\site-packages (from pydantic!=1.8,!=1.8.1,!=2.0.0,!=2.0.1,!=2.1.0,<3.0.0,>=1.7.4->fastapi) (0.6.0)\n",
      "Requirement already satisfied: pydantic-core==2.14.6 in c:\\users\\harit\\anaconda3\\lib\\site-packages (from pydantic!=1.8,!=1.8.1,!=2.0.0,!=2.0.1,!=2.1.0,<3.0.0,>=1.7.4->fastapi) (2.14.6)\n",
      "Requirement already satisfied: six>=1.5 in c:\\users\\harit\\anaconda3\\lib\\site-packages (from python-dateutil>=2.8.2->pandas) (1.16.0)\n",
      "Requirement already satisfied: anyio<5,>=3.6.2 in c:\\users\\harit\\anaconda3\\lib\\site-packages (from starlette<0.47.0,>=0.40.0->fastapi) (4.2.0)\n",
      "Requirement already satisfied: idna>=2.8 in c:\\users\\harit\\anaconda3\\lib\\site-packages (from anyio<5,>=3.6.2->starlette<0.47.0,>=0.40.0->fastapi) (3.7)\n",
      "Requirement already satisfied: sniffio>=1.1 in c:\\users\\harit\\anaconda3\\lib\\site-packages (from anyio<5,>=3.6.2->starlette<0.47.0,>=0.40.0->fastapi) (1.3.0)\n",
      "Note: you may need to restart the kernel to use updated packages.\n"
     ]
    }
   ],
   "source": [
    "pip install fastapi uvicorn scikit-learn pandas"
   ]
  },
  {
   "cell_type": "code",
   "execution_count": 49,
   "id": "1c5df952-8d2a-49a7-9d00-e1d1a585ede8",
   "metadata": {},
   "outputs": [],
   "source": [
    "import pandas as pd\n",
    "import numpy as np\n",
    "from typing import Optional\n",
    "from fastapi import FastAPI\n",
    "from sklearn.model_selection import train_test_split\n",
    "from sklearn.dummy import DummyClassifier\n",
    "from sklearn.neighbors import KNeighborsClassifier\n",
    "from sklearn.metrics import accuracy_score, recall_score, precision_score, classification_report\n",
    "import matplotlib\n",
    "import matplotlib.pyplot as plt\n",
    "import sklearn"
   ]
  },
  {
   "cell_type": "code",
   "execution_count": 58,
   "id": "107dde08-e0ae-43e9-8b16-f22831a63aae",
   "metadata": {},
   "outputs": [],
   "source": [
    "app = FastAPI()\n",
    "\n",
    "_x = [1]\n",
    "_y = [1]\n",
    "_result = [\"True\"]\n",
    "_prediction = [\"True\"]\n",
    "model = DummyClassifier(strategy=\"constant\", constant=\"True\")\n",
    "model.fit(np.array([_x, _y]).reshape(1, -1), _result)\n",
    "\n",
    "def model_evaluation(y_test, y_pred):\n",
    "    testacc = accuracy_score(y_test, y_pred)\n",
    "    testrecall = recall_score(y_test, y_pred, pos_label='True')\n",
    "    testprecision = precision_score(y_test, y_pred, pos_label='True')\n",
    "    print(classification_report(y_test, y_pred))\n",
    "    return testacc, testrecall, testprecision\n",
    "\n",
    "@app.get(\"/predict/\")\n",
    "def predict(id: int = 0, x: float = 0, y: float = 0):\n",
    "    _x.insert(id, x)\n",
    "    _y.insert(id, y)\n",
    "    prediction = model.predict(np.array([x, y]).reshape(1, -1))\n",
    "    _prediction.insert(id, prediction[0])\n",
    "    return {\"prediction\": prediction[0]}\n",
    "\n",
    "@app.get(\"/result/\")\n",
    "def result(id: int, result: str):\n",
    "    _result.insert(id, result)\n",
    "    return {\"message\": f\"Copied result for {id}\"}\n",
    "\n",
    "@app.get(\"/retrain/\")\n",
    "def retrain(last_n: int):\n",
    "    global model\n",
    "    print(f\"RETRAINING over last {last_n}\")\n",
    "    n = min(last_n, len(_x))\n",
    "    X = np.array(list(zip(_x[-n:], _y[-n:])))\n",
    "    Y = np.array(_result[-n:])\n",
    "    stratify = Y if len(set(Y)) > 1 else None\n",
    "    X_train, X_test, y_train, y_test = train_test_split(X, Y, test_size=0.4, stratify=stratify)\n",
    "    model.fit(X_train, y_train)\n",
    "    y_pred = model.predict(X_test)\n",
    "    testacc, testrecall, testprecision = model_evaluation(y_test, y_pred)\n",
    "    return {\"message\": \"Model retrained\", \"accuracy\": testacc, \"recall\": testrecall, \"precision\": testprecision}\n",
    "\n",
    "@app.get(\"/new_model/\")\n",
    "def new_model(model_type: str, last_n: int, strategy: Optional[str] = None, k: Optional[int] = 3):\n",
    "    global model\n",
    "    if model_type == \"Dummy\":\n",
    "        model = DummyClassifier(strategy=strategy)\n",
    "    elif model_type == \"KNN\":\n",
    "        model = KNeighborsClassifier(n_neighbors=k)\n",
    "    else:\n",
    "        return {\"error\": \"Unsupported model type\"}\n",
    "    message = retrain(last_n=last_n)\n",
    "    return {\"message\": f\"Model trained: {model}\", \"train\": message}"
   ]
  },
  {
   "cell_type": "code",
   "execution_count": 60,
   "id": "c23c54dd-8e98-4cd1-8b5e-7856ff47a7f4",
   "metadata": {},
   "outputs": [],
   "source": [
    "# Preload synthetic data\n",
    "for i in range(50):\n",
    "    _x.append(i)\n",
    "    _y.append(i % 2)\n",
    "    _result.append(str(i % 3 == 0))\n",
    "\n",
    "@app.get(\"/items/\")\n",
    "async def read_item(skip: int = 0, limit: int = 10):\n",
    "    return {\"skip\": skip, \"limit\": limit}\n"
   ]
  },
  {
   "cell_type": "markdown",
   "id": "08d11811-33c8-4edb-83df-87b1679391bd",
   "metadata": {},
   "source": [
    "### the above didnt work for me so I tried the below one"
   ]
  },
  {
   "cell_type": "code",
   "execution_count": 63,
   "id": "003b2ddb-86db-46cd-817b-fb8d9646fce7",
   "metadata": {},
   "outputs": [],
   "source": [
    "from sklearn.model_selection import train_test_split\n",
    "from sklearn.neighbors import KNeighborsClassifier\n",
    "from sklearn.dummy import DummyClassifier\n",
    "from sklearn.metrics import accuracy_score, precision_score, recall_score\n",
    "\n",
    "def retrain_classifier(X, y, classifier_type='knn', n_neighbors=5, test_size=0.2, random_state=42):\n",
    "    \"\"\"\n",
    "    Retrain a classifier (KNN or Dummy) using a stratified train-test split.\n",
    "\n",
    "    Parameters:\n",
    "        X (array-like): Feature matrix.\n",
    "        y (array-like): Target labels (must be categorical for classification).\n",
    "        classifier_type (str): 'knn' or 'dummy'.\n",
    "        n_neighbors (int): Number of neighbors for KNN (ignored for dummy).\n",
    "        test_size (float): Proportion of data for testing.\n",
    "        random_state (int): Seed for reproducibility.\n",
    "\n",
    "    Returns:\n",
    "        model: The trained classifier.\n",
    "        metrics (dict): Accuracy, precision, and recall scores.\n",
    "    \"\"\"\n",
    "    # Stratified split\n",
    "    X_train, X_test, y_train, y_test = train_test_split(\n",
    "        X, y, test_size=test_size, stratify=y, random_state=random_state)\n",
    "\n",
    "    # Choose classifier\n",
    "    if classifier_type == 'knn':\n",
    "        model = KNeighborsClassifier(n_neighbors=n_neighbors)\n",
    "    elif classifier_type == 'dummy':\n",
    "        model = DummyClassifier(strategy='most_frequent')\n",
    "    else:\n",
    "        raise ValueError(\"classifier_type must be either 'knn' or 'dummy'\")\n",
    "\n",
    "    # Train and predict\n",
    "    model.fit(X_train, y_train)\n",
    "    y_pred = model.predict(X_test)\n",
    "\n",
    "    # Evaluate\n",
    "    metrics = {\n",
    "        'accuracy': accuracy_score(y_test, y_pred),\n",
    "        'precision': precision_score(y_test, y_pred, average='macro'),\n",
    "        'recall': recall_score(y_test, y_pred, average='macro')\n",
    "    }\n",
    "\n",
    "    return model, metrics"
   ]
  },
  {
   "cell_type": "code",
   "execution_count": 65,
   "id": "44290fcf-40cf-4e6b-a5a1-59e346adbad3",
   "metadata": {},
   "outputs": [
    {
     "name": "stdout",
     "output_type": "stream",
     "text": [
      "KNN Retraining Performance: {'accuracy': 0.7528089887640449, 'precision': 0.7527777777777778, 'recall': 0.7527777777777778}\n",
      "Dummy Retraining Performance: {'accuracy': 0.4943820224719101, 'precision': 0.24719101123595505, 'recall': 0.5}\n"
     ]
    },
    {
     "name": "stderr",
     "output_type": "stream",
     "text": [
      "C:\\Users\\harit\\anaconda3\\Lib\\site-packages\\sklearn\\metrics\\_classification.py:1509: UndefinedMetricWarning: Precision is ill-defined and being set to 0.0 in labels with no predicted samples. Use `zero_division` parameter to control this behavior.\n",
      "  _warn_prf(average, modifier, f\"{metric.capitalize()} is\", len(result))\n"
     ]
    }
   ],
   "source": [
    "from sklearn.datasets import load_diabetes\n",
    "from sklearn.preprocessing import KBinsDiscretizer\n",
    "\n",
    "# Load diabetes data and convert to classification target\n",
    "X, y = load_diabetes(return_X_y=True)\n",
    "y_bin = KBinsDiscretizer(n_bins=2, encode='ordinal', strategy='quantile').fit_transform(y.reshape(-1, 1)).ravel()\n",
    "\n",
    "# Retrain using KNN\n",
    "model_knn, metrics_knn = retrain_classifier(X, y_bin, classifier_type='knn')\n",
    "print(\"KNN Retraining Performance:\", metrics_knn)\n",
    "\n",
    "# Retrain using Dummy\n",
    "model_dummy, metrics_dummy = retrain_classifier(X, y_bin, classifier_type='dummy')\n",
    "print(\"Dummy Retraining Performance:\", metrics_dummy)\n"
   ]
  },
  {
   "cell_type": "code",
   "execution_count": null,
   "id": "14a73fed-f9ff-43e4-afff-120a8b54539a",
   "metadata": {},
   "outputs": [],
   "source": []
  }
 ],
 "metadata": {
  "kernelspec": {
   "display_name": "Python 3 (ipykernel)",
   "language": "python",
   "name": "python3"
  },
  "language_info": {
   "codemirror_mode": {
    "name": "ipython",
    "version": 3
   },
   "file_extension": ".py",
   "mimetype": "text/x-python",
   "name": "python",
   "nbconvert_exporter": "python",
   "pygments_lexer": "ipython3",
   "version": "3.12.4"
  }
 },
 "nbformat": 4,
 "nbformat_minor": 5
}
